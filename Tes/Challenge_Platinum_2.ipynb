{
  "cells": [
    {
      "cell_type": "markdown",
      "metadata": {
        "id": "xFhYvRtpG56j"
      },
      "source": [
        "# Importing Libraries"
      ]
    },
    {
      "cell_type": "code",
      "execution_count": 83,
      "metadata": {
        "id": "zph5FShKGCVK"
      },
      "outputs": [],
      "source": [
        "import pandas as pd\n",
        "import numpy as np\n",
        "import re\n",
        "import string\n",
        "from nltk.corpus import stopwords\n",
        "from sklearn.model_selection import train_test_split"
      ]
    },
    {
      "cell_type": "markdown",
      "metadata": {
        "id": "GknQZPkgG-H9"
      },
      "source": [
        "# Load Dataset"
      ]
    },
    {
      "cell_type": "code",
      "execution_count": 84,
      "metadata": {
        "id": "JPiZGOm0GHPa"
      },
      "outputs": [],
      "source": [
        "data = pd.read_csv('/content/drive/MyDrive/Platinum Challenge/train_preprocess.tsv.txt', sep='\\t', header=None, names=['text', 'label'])"
      ]
    },
    {
      "cell_type": "markdown",
      "metadata": {
        "id": "8sXJUauMHBOl"
      },
      "source": [
        "# Display data describe and data information"
      ]
    },
    {
      "cell_type": "code",
      "execution_count": 85,
      "metadata": {
        "colab": {
          "base_uri": "https://localhost:8080/",
          "height": 173
        },
        "id": "XkhMZy0KZaei",
        "outputId": "2b2be835-78aa-4905-e0f0-7917c3bafef3"
      },
      "outputs": [
        {
          "output_type": "execute_result",
          "data": {
            "text/plain": [
              "         text     label\n",
              "count   11000     11000\n",
              "unique  10933         3\n",
              "top     kesal  positive\n",
              "freq        4      6416"
            ],
            "text/html": [
              "\n",
              "  <div id=\"df-298b1e6d-889c-458a-99cf-94586d9089a2\" class=\"colab-df-container\">\n",
              "    <div>\n",
              "<style scoped>\n",
              "    .dataframe tbody tr th:only-of-type {\n",
              "        vertical-align: middle;\n",
              "    }\n",
              "\n",
              "    .dataframe tbody tr th {\n",
              "        vertical-align: top;\n",
              "    }\n",
              "\n",
              "    .dataframe thead th {\n",
              "        text-align: right;\n",
              "    }\n",
              "</style>\n",
              "<table border=\"1\" class=\"dataframe\">\n",
              "  <thead>\n",
              "    <tr style=\"text-align: right;\">\n",
              "      <th></th>\n",
              "      <th>text</th>\n",
              "      <th>label</th>\n",
              "    </tr>\n",
              "  </thead>\n",
              "  <tbody>\n",
              "    <tr>\n",
              "      <th>count</th>\n",
              "      <td>11000</td>\n",
              "      <td>11000</td>\n",
              "    </tr>\n",
              "    <tr>\n",
              "      <th>unique</th>\n",
              "      <td>10933</td>\n",
              "      <td>3</td>\n",
              "    </tr>\n",
              "    <tr>\n",
              "      <th>top</th>\n",
              "      <td>kesal</td>\n",
              "      <td>positive</td>\n",
              "    </tr>\n",
              "    <tr>\n",
              "      <th>freq</th>\n",
              "      <td>4</td>\n",
              "      <td>6416</td>\n",
              "    </tr>\n",
              "  </tbody>\n",
              "</table>\n",
              "</div>\n",
              "    <div class=\"colab-df-buttons\">\n",
              "\n",
              "  <div class=\"colab-df-container\">\n",
              "    <button class=\"colab-df-convert\" onclick=\"convertToInteractive('df-298b1e6d-889c-458a-99cf-94586d9089a2')\"\n",
              "            title=\"Convert this dataframe to an interactive table.\"\n",
              "            style=\"display:none;\">\n",
              "\n",
              "  <svg xmlns=\"http://www.w3.org/2000/svg\" height=\"24px\" viewBox=\"0 -960 960 960\">\n",
              "    <path d=\"M120-120v-720h720v720H120Zm60-500h600v-160H180v160Zm220 220h160v-160H400v160Zm0 220h160v-160H400v160ZM180-400h160v-160H180v160Zm440 0h160v-160H620v160ZM180-180h160v-160H180v160Zm440 0h160v-160H620v160Z\"/>\n",
              "  </svg>\n",
              "    </button>\n",
              "\n",
              "  <style>\n",
              "    .colab-df-container {\n",
              "      display:flex;\n",
              "      gap: 12px;\n",
              "    }\n",
              "\n",
              "    .colab-df-convert {\n",
              "      background-color: #E8F0FE;\n",
              "      border: none;\n",
              "      border-radius: 50%;\n",
              "      cursor: pointer;\n",
              "      display: none;\n",
              "      fill: #1967D2;\n",
              "      height: 32px;\n",
              "      padding: 0 0 0 0;\n",
              "      width: 32px;\n",
              "    }\n",
              "\n",
              "    .colab-df-convert:hover {\n",
              "      background-color: #E2EBFA;\n",
              "      box-shadow: 0px 1px 2px rgba(60, 64, 67, 0.3), 0px 1px 3px 1px rgba(60, 64, 67, 0.15);\n",
              "      fill: #174EA6;\n",
              "    }\n",
              "\n",
              "    .colab-df-buttons div {\n",
              "      margin-bottom: 4px;\n",
              "    }\n",
              "\n",
              "    [theme=dark] .colab-df-convert {\n",
              "      background-color: #3B4455;\n",
              "      fill: #D2E3FC;\n",
              "    }\n",
              "\n",
              "    [theme=dark] .colab-df-convert:hover {\n",
              "      background-color: #434B5C;\n",
              "      box-shadow: 0px 1px 3px 1px rgba(0, 0, 0, 0.15);\n",
              "      filter: drop-shadow(0px 1px 2px rgba(0, 0, 0, 0.3));\n",
              "      fill: #FFFFFF;\n",
              "    }\n",
              "  </style>\n",
              "\n",
              "    <script>\n",
              "      const buttonEl =\n",
              "        document.querySelector('#df-298b1e6d-889c-458a-99cf-94586d9089a2 button.colab-df-convert');\n",
              "      buttonEl.style.display =\n",
              "        google.colab.kernel.accessAllowed ? 'block' : 'none';\n",
              "\n",
              "      async function convertToInteractive(key) {\n",
              "        const element = document.querySelector('#df-298b1e6d-889c-458a-99cf-94586d9089a2');\n",
              "        const dataTable =\n",
              "          await google.colab.kernel.invokeFunction('convertToInteractive',\n",
              "                                                    [key], {});\n",
              "        if (!dataTable) return;\n",
              "\n",
              "        const docLinkHtml = 'Like what you see? Visit the ' +\n",
              "          '<a target=\"_blank\" href=https://colab.research.google.com/notebooks/data_table.ipynb>data table notebook</a>'\n",
              "          + ' to learn more about interactive tables.';\n",
              "        element.innerHTML = '';\n",
              "        dataTable['output_type'] = 'display_data';\n",
              "        await google.colab.output.renderOutput(dataTable, element);\n",
              "        const docLink = document.createElement('div');\n",
              "        docLink.innerHTML = docLinkHtml;\n",
              "        element.appendChild(docLink);\n",
              "      }\n",
              "    </script>\n",
              "  </div>\n",
              "\n",
              "\n",
              "<div id=\"df-b252e657-ffd6-42ec-9902-40efcec14fbc\">\n",
              "  <button class=\"colab-df-quickchart\" onclick=\"quickchart('df-b252e657-ffd6-42ec-9902-40efcec14fbc')\"\n",
              "            title=\"Suggest charts\"\n",
              "            style=\"display:none;\">\n",
              "\n",
              "<svg xmlns=\"http://www.w3.org/2000/svg\" height=\"24px\"viewBox=\"0 0 24 24\"\n",
              "     width=\"24px\">\n",
              "    <g>\n",
              "        <path d=\"M19 3H5c-1.1 0-2 .9-2 2v14c0 1.1.9 2 2 2h14c1.1 0 2-.9 2-2V5c0-1.1-.9-2-2-2zM9 17H7v-7h2v7zm4 0h-2V7h2v10zm4 0h-2v-4h2v4z\"/>\n",
              "    </g>\n",
              "</svg>\n",
              "  </button>\n",
              "\n",
              "<style>\n",
              "  .colab-df-quickchart {\n",
              "      --bg-color: #E8F0FE;\n",
              "      --fill-color: #1967D2;\n",
              "      --hover-bg-color: #E2EBFA;\n",
              "      --hover-fill-color: #174EA6;\n",
              "      --disabled-fill-color: #AAA;\n",
              "      --disabled-bg-color: #DDD;\n",
              "  }\n",
              "\n",
              "  [theme=dark] .colab-df-quickchart {\n",
              "      --bg-color: #3B4455;\n",
              "      --fill-color: #D2E3FC;\n",
              "      --hover-bg-color: #434B5C;\n",
              "      --hover-fill-color: #FFFFFF;\n",
              "      --disabled-bg-color: #3B4455;\n",
              "      --disabled-fill-color: #666;\n",
              "  }\n",
              "\n",
              "  .colab-df-quickchart {\n",
              "    background-color: var(--bg-color);\n",
              "    border: none;\n",
              "    border-radius: 50%;\n",
              "    cursor: pointer;\n",
              "    display: none;\n",
              "    fill: var(--fill-color);\n",
              "    height: 32px;\n",
              "    padding: 0;\n",
              "    width: 32px;\n",
              "  }\n",
              "\n",
              "  .colab-df-quickchart:hover {\n",
              "    background-color: var(--hover-bg-color);\n",
              "    box-shadow: 0 1px 2px rgba(60, 64, 67, 0.3), 0 1px 3px 1px rgba(60, 64, 67, 0.15);\n",
              "    fill: var(--button-hover-fill-color);\n",
              "  }\n",
              "\n",
              "  .colab-df-quickchart-complete:disabled,\n",
              "  .colab-df-quickchart-complete:disabled:hover {\n",
              "    background-color: var(--disabled-bg-color);\n",
              "    fill: var(--disabled-fill-color);\n",
              "    box-shadow: none;\n",
              "  }\n",
              "\n",
              "  .colab-df-spinner {\n",
              "    border: 2px solid var(--fill-color);\n",
              "    border-color: transparent;\n",
              "    border-bottom-color: var(--fill-color);\n",
              "    animation:\n",
              "      spin 1s steps(1) infinite;\n",
              "  }\n",
              "\n",
              "  @keyframes spin {\n",
              "    0% {\n",
              "      border-color: transparent;\n",
              "      border-bottom-color: var(--fill-color);\n",
              "      border-left-color: var(--fill-color);\n",
              "    }\n",
              "    20% {\n",
              "      border-color: transparent;\n",
              "      border-left-color: var(--fill-color);\n",
              "      border-top-color: var(--fill-color);\n",
              "    }\n",
              "    30% {\n",
              "      border-color: transparent;\n",
              "      border-left-color: var(--fill-color);\n",
              "      border-top-color: var(--fill-color);\n",
              "      border-right-color: var(--fill-color);\n",
              "    }\n",
              "    40% {\n",
              "      border-color: transparent;\n",
              "      border-right-color: var(--fill-color);\n",
              "      border-top-color: var(--fill-color);\n",
              "    }\n",
              "    60% {\n",
              "      border-color: transparent;\n",
              "      border-right-color: var(--fill-color);\n",
              "    }\n",
              "    80% {\n",
              "      border-color: transparent;\n",
              "      border-right-color: var(--fill-color);\n",
              "      border-bottom-color: var(--fill-color);\n",
              "    }\n",
              "    90% {\n",
              "      border-color: transparent;\n",
              "      border-bottom-color: var(--fill-color);\n",
              "    }\n",
              "  }\n",
              "</style>\n",
              "\n",
              "  <script>\n",
              "    async function quickchart(key) {\n",
              "      const quickchartButtonEl =\n",
              "        document.querySelector('#' + key + ' button');\n",
              "      quickchartButtonEl.disabled = true;  // To prevent multiple clicks.\n",
              "      quickchartButtonEl.classList.add('colab-df-spinner');\n",
              "      try {\n",
              "        const charts = await google.colab.kernel.invokeFunction(\n",
              "            'suggestCharts', [key], {});\n",
              "      } catch (error) {\n",
              "        console.error('Error during call to suggestCharts:', error);\n",
              "      }\n",
              "      quickchartButtonEl.classList.remove('colab-df-spinner');\n",
              "      quickchartButtonEl.classList.add('colab-df-quickchart-complete');\n",
              "    }\n",
              "    (() => {\n",
              "      let quickchartButtonEl =\n",
              "        document.querySelector('#df-b252e657-ffd6-42ec-9902-40efcec14fbc button');\n",
              "      quickchartButtonEl.style.display =\n",
              "        google.colab.kernel.accessAllowed ? 'block' : 'none';\n",
              "    })();\n",
              "  </script>\n",
              "</div>\n",
              "    </div>\n",
              "  </div>\n"
            ],
            "application/vnd.google.colaboratory.intrinsic+json": {
              "type": "dataframe",
              "summary": "{\n  \"name\": \"data\",\n  \"rows\": 4,\n  \"fields\": [\n    {\n      \"column\": \"text\",\n      \"properties\": {\n        \"dtype\": \"string\",\n        \"num_unique_values\": 4,\n        \"samples\": [\n          10933,\n          \"4\",\n          \"11000\"\n        ],\n        \"semantic_type\": \"\",\n        \"description\": \"\"\n      }\n    },\n    {\n      \"column\": \"label\",\n      \"properties\": {\n        \"dtype\": \"string\",\n        \"num_unique_values\": 4,\n        \"samples\": [\n          3,\n          \"6416\",\n          \"11000\"\n        ],\n        \"semantic_type\": \"\",\n        \"description\": \"\"\n      }\n    }\n  ]\n}"
            }
          },
          "metadata": {},
          "execution_count": 85
        }
      ],
      "source": [
        "data.describe()"
      ]
    },
    {
      "cell_type": "code",
      "execution_count": 86,
      "metadata": {
        "colab": {
          "base_uri": "https://localhost:8080/"
        },
        "id": "WaXoNHJtHCB0",
        "outputId": "4eadf45b-e329-463b-ab9d-8c13843ee37d"
      },
      "outputs": [
        {
          "output_type": "stream",
          "name": "stdout",
          "text": [
            "<class 'pandas.core.frame.DataFrame'>\n",
            "RangeIndex: 11000 entries, 0 to 10999\n",
            "Data columns (total 2 columns):\n",
            " #   Column  Non-Null Count  Dtype \n",
            "---  ------  --------------  ----- \n",
            " 0   text    11000 non-null  object\n",
            " 1   label   11000 non-null  object\n",
            "dtypes: object(2)\n",
            "memory usage: 172.0+ KB\n"
          ]
        }
      ],
      "source": [
        "data.info()"
      ]
    },
    {
      "cell_type": "markdown",
      "metadata": {
        "id": "HGYh53QnHHHw"
      },
      "source": [
        "# Preprocess Data"
      ]
    },
    {
      "cell_type": "markdown",
      "metadata": {
        "id": "b5MtFgRkHKXM"
      },
      "source": [
        "Stopwords"
      ]
    },
    {
      "cell_type": "code",
      "execution_count": 87,
      "metadata": {
        "colab": {
          "base_uri": "https://localhost:8080/"
        },
        "id": "lwQePbGCGJ7s",
        "outputId": "cc38a1da-7d09-4aa9-fd2f-5dded44aab31"
      },
      "outputs": [
        {
          "output_type": "stream",
          "name": "stderr",
          "text": [
            "[nltk_data] Downloading package stopwords to /root/nltk_data...\n",
            "[nltk_data]   Package stopwords is already up-to-date!\n"
          ]
        }
      ],
      "source": [
        "import nltk\n",
        "nltk.download('stopwords')\n",
        "from nltk.corpus import stopwords\n",
        "stop_words = set(stopwords.words('indonesian'))"
      ]
    },
    {
      "cell_type": "markdown",
      "metadata": {
        "id": "1jrvJ_H4HONH"
      },
      "source": [
        "## Stemming"
      ]
    },
    {
      "cell_type": "code",
      "execution_count": 88,
      "metadata": {
        "id": "ms2tTXD0HO1b"
      },
      "outputs": [],
      "source": [
        "#from nltk.stem import PorterStemmer\n",
        "#stemmer = PorterStemmer()"
      ]
    },
    {
      "cell_type": "code",
      "execution_count": 89,
      "metadata": {
        "id": "Zzkh3QtkGOQD"
      },
      "outputs": [],
      "source": [
        "def preprocess_text(text):\n",
        "    text = text.lower()                                 # Mengubah menjadi huruf kecil\n",
        "    text = re.sub(r'\\s+', ' ', text)                    # Mengganti banyak spasi dengan satu spasi\n",
        "    text = re.sub(r'[^a-zA-Z\\s]', '', text)             # Menghapus karakter spesial kecuali spasi\n",
        "    text = re.sub(r'\\t', ' ', text)                     # Menghapus tab dan menggantinya dengan spasi\n",
        "    text = re.sub(r'\\d+', '', text)                     # Menghapus angka\n",
        "    text = re.sub(f\"[{string.punctuation}]\", \"\", text)  # Menghapus tanda baca\n",
        "    text = ' '.join([word for word in text.split() if word not in stop_words])  # Menghapus stopwords\n",
        "    return text"
      ]
    },
    {
      "cell_type": "code",
      "execution_count": 90,
      "metadata": {
        "colab": {
          "base_uri": "https://localhost:8080/",
          "height": 204
        },
        "id": "Q2kVDFCPGQJf",
        "outputId": "0e790342-24f9-4527-f360-ad70626ec18d"
      },
      "outputs": [
        {
          "output_type": "execute_result",
          "data": {
            "text/plain": [
              "                                                text     label  \\\n",
              "0  warung ini dimiliki oleh pengusaha pabrik tahu...  positive   \n",
              "1  mohon ulama lurus dan k212 mmbri hujjah partai...   neutral   \n",
              "2  lokasi strategis di jalan sumatera bandung . t...  positive   \n",
              "3  betapa bahagia nya diri ini saat unboxing pake...  positive   \n",
              "4  duh . jadi mahasiswa jangan sombong dong . kas...  negative   \n",
              "\n",
              "                                        cleaned_text  \n",
              "0  warung dimiliki pengusaha pabrik puluhan terke...  \n",
              "1  mohon ulama lurus k mmbri hujjah partai diwlh ...  \n",
              "2  lokasi strategis jalan sumatera bandung nya ny...  \n",
              "3  betapa bahagia nya unboxing paket barang nya b...  \n",
              "4  duh mahasiswa sombong kasih kartu kuning belaj...  "
            ],
            "text/html": [
              "\n",
              "  <div id=\"df-be0a1fe1-8407-4c35-af95-70ad30d6daaa\" class=\"colab-df-container\">\n",
              "    <div>\n",
              "<style scoped>\n",
              "    .dataframe tbody tr th:only-of-type {\n",
              "        vertical-align: middle;\n",
              "    }\n",
              "\n",
              "    .dataframe tbody tr th {\n",
              "        vertical-align: top;\n",
              "    }\n",
              "\n",
              "    .dataframe thead th {\n",
              "        text-align: right;\n",
              "    }\n",
              "</style>\n",
              "<table border=\"1\" class=\"dataframe\">\n",
              "  <thead>\n",
              "    <tr style=\"text-align: right;\">\n",
              "      <th></th>\n",
              "      <th>text</th>\n",
              "      <th>label</th>\n",
              "      <th>cleaned_text</th>\n",
              "    </tr>\n",
              "  </thead>\n",
              "  <tbody>\n",
              "    <tr>\n",
              "      <th>0</th>\n",
              "      <td>warung ini dimiliki oleh pengusaha pabrik tahu...</td>\n",
              "      <td>positive</td>\n",
              "      <td>warung dimiliki pengusaha pabrik puluhan terke...</td>\n",
              "    </tr>\n",
              "    <tr>\n",
              "      <th>1</th>\n",
              "      <td>mohon ulama lurus dan k212 mmbri hujjah partai...</td>\n",
              "      <td>neutral</td>\n",
              "      <td>mohon ulama lurus k mmbri hujjah partai diwlh ...</td>\n",
              "    </tr>\n",
              "    <tr>\n",
              "      <th>2</th>\n",
              "      <td>lokasi strategis di jalan sumatera bandung . t...</td>\n",
              "      <td>positive</td>\n",
              "      <td>lokasi strategis jalan sumatera bandung nya ny...</td>\n",
              "    </tr>\n",
              "    <tr>\n",
              "      <th>3</th>\n",
              "      <td>betapa bahagia nya diri ini saat unboxing pake...</td>\n",
              "      <td>positive</td>\n",
              "      <td>betapa bahagia nya unboxing paket barang nya b...</td>\n",
              "    </tr>\n",
              "    <tr>\n",
              "      <th>4</th>\n",
              "      <td>duh . jadi mahasiswa jangan sombong dong . kas...</td>\n",
              "      <td>negative</td>\n",
              "      <td>duh mahasiswa sombong kasih kartu kuning belaj...</td>\n",
              "    </tr>\n",
              "  </tbody>\n",
              "</table>\n",
              "</div>\n",
              "    <div class=\"colab-df-buttons\">\n",
              "\n",
              "  <div class=\"colab-df-container\">\n",
              "    <button class=\"colab-df-convert\" onclick=\"convertToInteractive('df-be0a1fe1-8407-4c35-af95-70ad30d6daaa')\"\n",
              "            title=\"Convert this dataframe to an interactive table.\"\n",
              "            style=\"display:none;\">\n",
              "\n",
              "  <svg xmlns=\"http://www.w3.org/2000/svg\" height=\"24px\" viewBox=\"0 -960 960 960\">\n",
              "    <path d=\"M120-120v-720h720v720H120Zm60-500h600v-160H180v160Zm220 220h160v-160H400v160Zm0 220h160v-160H400v160ZM180-400h160v-160H180v160Zm440 0h160v-160H620v160ZM180-180h160v-160H180v160Zm440 0h160v-160H620v160Z\"/>\n",
              "  </svg>\n",
              "    </button>\n",
              "\n",
              "  <style>\n",
              "    .colab-df-container {\n",
              "      display:flex;\n",
              "      gap: 12px;\n",
              "    }\n",
              "\n",
              "    .colab-df-convert {\n",
              "      background-color: #E8F0FE;\n",
              "      border: none;\n",
              "      border-radius: 50%;\n",
              "      cursor: pointer;\n",
              "      display: none;\n",
              "      fill: #1967D2;\n",
              "      height: 32px;\n",
              "      padding: 0 0 0 0;\n",
              "      width: 32px;\n",
              "    }\n",
              "\n",
              "    .colab-df-convert:hover {\n",
              "      background-color: #E2EBFA;\n",
              "      box-shadow: 0px 1px 2px rgba(60, 64, 67, 0.3), 0px 1px 3px 1px rgba(60, 64, 67, 0.15);\n",
              "      fill: #174EA6;\n",
              "    }\n",
              "\n",
              "    .colab-df-buttons div {\n",
              "      margin-bottom: 4px;\n",
              "    }\n",
              "\n",
              "    [theme=dark] .colab-df-convert {\n",
              "      background-color: #3B4455;\n",
              "      fill: #D2E3FC;\n",
              "    }\n",
              "\n",
              "    [theme=dark] .colab-df-convert:hover {\n",
              "      background-color: #434B5C;\n",
              "      box-shadow: 0px 1px 3px 1px rgba(0, 0, 0, 0.15);\n",
              "      filter: drop-shadow(0px 1px 2px rgba(0, 0, 0, 0.3));\n",
              "      fill: #FFFFFF;\n",
              "    }\n",
              "  </style>\n",
              "\n",
              "    <script>\n",
              "      const buttonEl =\n",
              "        document.querySelector('#df-be0a1fe1-8407-4c35-af95-70ad30d6daaa button.colab-df-convert');\n",
              "      buttonEl.style.display =\n",
              "        google.colab.kernel.accessAllowed ? 'block' : 'none';\n",
              "\n",
              "      async function convertToInteractive(key) {\n",
              "        const element = document.querySelector('#df-be0a1fe1-8407-4c35-af95-70ad30d6daaa');\n",
              "        const dataTable =\n",
              "          await google.colab.kernel.invokeFunction('convertToInteractive',\n",
              "                                                    [key], {});\n",
              "        if (!dataTable) return;\n",
              "\n",
              "        const docLinkHtml = 'Like what you see? Visit the ' +\n",
              "          '<a target=\"_blank\" href=https://colab.research.google.com/notebooks/data_table.ipynb>data table notebook</a>'\n",
              "          + ' to learn more about interactive tables.';\n",
              "        element.innerHTML = '';\n",
              "        dataTable['output_type'] = 'display_data';\n",
              "        await google.colab.output.renderOutput(dataTable, element);\n",
              "        const docLink = document.createElement('div');\n",
              "        docLink.innerHTML = docLinkHtml;\n",
              "        element.appendChild(docLink);\n",
              "      }\n",
              "    </script>\n",
              "  </div>\n",
              "\n",
              "\n",
              "<div id=\"df-d6010d39-8323-4d37-bf5b-9b3e39a12115\">\n",
              "  <button class=\"colab-df-quickchart\" onclick=\"quickchart('df-d6010d39-8323-4d37-bf5b-9b3e39a12115')\"\n",
              "            title=\"Suggest charts\"\n",
              "            style=\"display:none;\">\n",
              "\n",
              "<svg xmlns=\"http://www.w3.org/2000/svg\" height=\"24px\"viewBox=\"0 0 24 24\"\n",
              "     width=\"24px\">\n",
              "    <g>\n",
              "        <path d=\"M19 3H5c-1.1 0-2 .9-2 2v14c0 1.1.9 2 2 2h14c1.1 0 2-.9 2-2V5c0-1.1-.9-2-2-2zM9 17H7v-7h2v7zm4 0h-2V7h2v10zm4 0h-2v-4h2v4z\"/>\n",
              "    </g>\n",
              "</svg>\n",
              "  </button>\n",
              "\n",
              "<style>\n",
              "  .colab-df-quickchart {\n",
              "      --bg-color: #E8F0FE;\n",
              "      --fill-color: #1967D2;\n",
              "      --hover-bg-color: #E2EBFA;\n",
              "      --hover-fill-color: #174EA6;\n",
              "      --disabled-fill-color: #AAA;\n",
              "      --disabled-bg-color: #DDD;\n",
              "  }\n",
              "\n",
              "  [theme=dark] .colab-df-quickchart {\n",
              "      --bg-color: #3B4455;\n",
              "      --fill-color: #D2E3FC;\n",
              "      --hover-bg-color: #434B5C;\n",
              "      --hover-fill-color: #FFFFFF;\n",
              "      --disabled-bg-color: #3B4455;\n",
              "      --disabled-fill-color: #666;\n",
              "  }\n",
              "\n",
              "  .colab-df-quickchart {\n",
              "    background-color: var(--bg-color);\n",
              "    border: none;\n",
              "    border-radius: 50%;\n",
              "    cursor: pointer;\n",
              "    display: none;\n",
              "    fill: var(--fill-color);\n",
              "    height: 32px;\n",
              "    padding: 0;\n",
              "    width: 32px;\n",
              "  }\n",
              "\n",
              "  .colab-df-quickchart:hover {\n",
              "    background-color: var(--hover-bg-color);\n",
              "    box-shadow: 0 1px 2px rgba(60, 64, 67, 0.3), 0 1px 3px 1px rgba(60, 64, 67, 0.15);\n",
              "    fill: var(--button-hover-fill-color);\n",
              "  }\n",
              "\n",
              "  .colab-df-quickchart-complete:disabled,\n",
              "  .colab-df-quickchart-complete:disabled:hover {\n",
              "    background-color: var(--disabled-bg-color);\n",
              "    fill: var(--disabled-fill-color);\n",
              "    box-shadow: none;\n",
              "  }\n",
              "\n",
              "  .colab-df-spinner {\n",
              "    border: 2px solid var(--fill-color);\n",
              "    border-color: transparent;\n",
              "    border-bottom-color: var(--fill-color);\n",
              "    animation:\n",
              "      spin 1s steps(1) infinite;\n",
              "  }\n",
              "\n",
              "  @keyframes spin {\n",
              "    0% {\n",
              "      border-color: transparent;\n",
              "      border-bottom-color: var(--fill-color);\n",
              "      border-left-color: var(--fill-color);\n",
              "    }\n",
              "    20% {\n",
              "      border-color: transparent;\n",
              "      border-left-color: var(--fill-color);\n",
              "      border-top-color: var(--fill-color);\n",
              "    }\n",
              "    30% {\n",
              "      border-color: transparent;\n",
              "      border-left-color: var(--fill-color);\n",
              "      border-top-color: var(--fill-color);\n",
              "      border-right-color: var(--fill-color);\n",
              "    }\n",
              "    40% {\n",
              "      border-color: transparent;\n",
              "      border-right-color: var(--fill-color);\n",
              "      border-top-color: var(--fill-color);\n",
              "    }\n",
              "    60% {\n",
              "      border-color: transparent;\n",
              "      border-right-color: var(--fill-color);\n",
              "    }\n",
              "    80% {\n",
              "      border-color: transparent;\n",
              "      border-right-color: var(--fill-color);\n",
              "      border-bottom-color: var(--fill-color);\n",
              "    }\n",
              "    90% {\n",
              "      border-color: transparent;\n",
              "      border-bottom-color: var(--fill-color);\n",
              "    }\n",
              "  }\n",
              "</style>\n",
              "\n",
              "  <script>\n",
              "    async function quickchart(key) {\n",
              "      const quickchartButtonEl =\n",
              "        document.querySelector('#' + key + ' button');\n",
              "      quickchartButtonEl.disabled = true;  // To prevent multiple clicks.\n",
              "      quickchartButtonEl.classList.add('colab-df-spinner');\n",
              "      try {\n",
              "        const charts = await google.colab.kernel.invokeFunction(\n",
              "            'suggestCharts', [key], {});\n",
              "      } catch (error) {\n",
              "        console.error('Error during call to suggestCharts:', error);\n",
              "      }\n",
              "      quickchartButtonEl.classList.remove('colab-df-spinner');\n",
              "      quickchartButtonEl.classList.add('colab-df-quickchart-complete');\n",
              "    }\n",
              "    (() => {\n",
              "      let quickchartButtonEl =\n",
              "        document.querySelector('#df-d6010d39-8323-4d37-bf5b-9b3e39a12115 button');\n",
              "      quickchartButtonEl.style.display =\n",
              "        google.colab.kernel.accessAllowed ? 'block' : 'none';\n",
              "    })();\n",
              "  </script>\n",
              "</div>\n",
              "    </div>\n",
              "  </div>\n"
            ],
            "application/vnd.google.colaboratory.intrinsic+json": {
              "type": "dataframe",
              "variable_name": "data",
              "summary": "{\n  \"name\": \"data\",\n  \"rows\": 11000,\n  \"fields\": [\n    {\n      \"column\": \"text\",\n      \"properties\": {\n        \"dtype\": \"string\",\n        \"num_unique_values\": 10933,\n        \"samples\": [\n          \"ikan laut di aceh masih mahal\",\n          \"pizza sama coffie nya enak , harga nya juga murah banget hehehe sewaktu ke sini dulu waktu hujan jadi bisa sambil santai lama sekali :\",\n          \"kalau mau merasakan roti zaman dahulu , ini salah satu tempat nya . buka nya hanya sampai sore , jadi kalau pulang kantor kadang tidak keburu ke sini\"\n        ],\n        \"semantic_type\": \"\",\n        \"description\": \"\"\n      }\n    },\n    {\n      \"column\": \"label\",\n      \"properties\": {\n        \"dtype\": \"category\",\n        \"num_unique_values\": 3,\n        \"samples\": [\n          \"positive\",\n          \"neutral\",\n          \"negative\"\n        ],\n        \"semantic_type\": \"\",\n        \"description\": \"\"\n      }\n    },\n    {\n      \"column\": \"cleaned_text\",\n      \"properties\": {\n        \"dtype\": \"string\",\n        \"num_unique_values\": 10789,\n        \"samples\": [\n          \"makan bosenbosen makanan pelayanan memuaskan\",\n          \"favorit resto bubur mangkok berdua suami menu nya tambahan makan bubur harga sesuai teman makan bubur hot chinese tea hmmm enak\",\n          \"bangkit bangkit pki ditungguin rakyat indonesia cinta nkri tni ulama tokoh agama nyali mah ayo deh biar bikin jilid nih biar pki hidup indonesia\"\n        ],\n        \"semantic_type\": \"\",\n        \"description\": \"\"\n      }\n    }\n  ]\n}"
            }
          },
          "metadata": {},
          "execution_count": 90
        }
      ],
      "source": [
        "data['cleaned_text'] = data['text'].apply(preprocess_text)\n",
        "data.head()"
      ]
    },
    {
      "cell_type": "code",
      "execution_count": 91,
      "metadata": {
        "colab": {
          "base_uri": "https://localhost:8080/"
        },
        "id": "nj7GIz9gHVle",
        "outputId": "2f7e8882-89e8-4d6a-830d-fe93fc507175"
      },
      "outputs": [
        {
          "output_type": "stream",
          "name": "stdout",
          "text": [
            "11000\n"
          ]
        }
      ],
      "source": [
        "print(len(data['label']))"
      ]
    },
    {
      "cell_type": "code",
      "execution_count": 92,
      "metadata": {
        "colab": {
          "base_uri": "https://localhost:8080/"
        },
        "id": "fCMk39tyHY_r",
        "outputId": "027b90ec-719f-4bb6-c1d4-c13ff497c5c1"
      },
      "outputs": [
        {
          "output_type": "stream",
          "name": "stdout",
          "text": [
            "siapsiap turun gunung mendukung menangkan djarot gubernur sumatera utara\n"
          ]
        }
      ],
      "source": [
        "idx = 711\n",
        "print (data['cleaned_text'][idx])"
      ]
    },
    {
      "cell_type": "code",
      "execution_count": 93,
      "metadata": {
        "colab": {
          "base_uri": "https://localhost:8080/"
        },
        "id": "RZtxfZJE6Nbg",
        "outputId": "d2539361-5794-4a25-c6c3-d343d710a112"
      },
      "outputs": [
        {
          "output_type": "execute_result",
          "data": {
            "text/plain": [
              "0    warung dimiliki pengusaha pabrik puluhan terke...\n",
              "1    mohon ulama lurus k mmbri hujjah partai diwlh ...\n",
              "2    lokasi strategis jalan sumatera bandung nya ny...\n",
              "3    betapa bahagia nya unboxing paket barang nya b...\n",
              "4    duh mahasiswa sombong kasih kartu kuning belaj...\n",
              "Name: cleaned_text, dtype: object"
            ]
          },
          "metadata": {},
          "execution_count": 93
        }
      ],
      "source": [
        "# Encode labels\n",
        "label_map = {'positive': 2, 'neutral': 1, 'negative': 0}\n",
        "data['label'] = data['label'].map(label_map).values\n",
        "data['cleaned_text'].head()"
      ]
    },
    {
      "cell_type": "markdown",
      "metadata": {
        "id": "qLrRL4VyPaOa"
      },
      "source": [
        "Determine Maxlen"
      ]
    },
    {
      "cell_type": "code",
      "execution_count": 94,
      "metadata": {
        "colab": {
          "base_uri": "https://localhost:8080/"
        },
        "id": "u5Ov2C0FPe40",
        "outputId": "6fddf394-c821-445a-bd85-529f11d6955f"
      },
      "outputs": [
        {
          "output_type": "stream",
          "name": "stdout",
          "text": [
            "63\n"
          ]
        }
      ],
      "source": [
        "sequence_lengths = [len(seq) for seq in data['cleaned_text'].str.split()]\n",
        "maxlen = max(sequence_lengths)\n",
        "print(maxlen)"
      ]
    },
    {
      "cell_type": "markdown",
      "metadata": {
        "id": "EWmzVR7rHlzq"
      },
      "source": [
        "Prepare for Modelling Data"
      ]
    },
    {
      "cell_type": "code",
      "execution_count": 95,
      "metadata": {
        "id": "m_PPV5vLGSIA"
      },
      "outputs": [],
      "source": [
        "import tensorflow as tf\n",
        "import matplotlib.pyplot as plt\n",
        "from keras.preprocessing.text import Tokenizer\n",
        "from keras.preprocessing.sequence import pad_sequences\n",
        "from sklearn import metrics\n",
        "from sklearn.preprocessing import OneHotEncoder\n",
        "from sklearn.metrics import classification_report\n",
        "from keras.utils import to_categorical\n",
        "from sklearn.feature_extraction.text import CountVectorizer\n",
        "from sklearn.preprocessing import StandardScaler\n",
        "from keras.models import Sequential\n",
        "from keras.layers import Dense, Embedding, LSTM, Dropout, Flatten, Input, BatchNormalization\n",
        "from sklearn.model_selection import train_test_split, StratifiedKFold, cross_val_score\n",
        "from sklearn.neighbors import KNeighborsClassifier\n",
        "from sklearn.metrics import accuracy_score\n",
        "from keras.utils import to_categorical\n",
        "from tensorflow.keras.callbacks import EarlyStopping\n",
        "from sklearn.linear_model import LogisticRegression\n",
        "from sklearn.model_selection import KFold\n",
        "import pickle"
      ]
    },
    {
      "cell_type": "markdown",
      "metadata": {
        "id": "x7HvPL4lHVH8"
      },
      "source": [
        "## Tokenizing Data"
      ]
    },
    {
      "cell_type": "code",
      "execution_count": 96,
      "metadata": {
        "id": "fEUKiS7DGYWo"
      },
      "outputs": [],
      "source": [
        "tokenizer = Tokenizer()\n",
        "tokenizer.fit_on_texts(data['cleaned_text'])"
      ]
    },
    {
      "cell_type": "markdown",
      "metadata": {
        "id": "8LFqQ9OYINeE"
      },
      "source": [
        "Padding sequences"
      ]
    },
    {
      "cell_type": "code",
      "execution_count": 97,
      "metadata": {
        "id": "PFkSDiFOfrA9"
      },
      "outputs": [],
      "source": [
        "sequence = tokenizer.texts_to_sequences(data['cleaned_text'])\n",
        "X = pad_sequences(sequence, maxlen=maxlen)\n",
        "y = data['label'].values"
      ]
    },
    {
      "cell_type": "code",
      "execution_count": 98,
      "metadata": {
        "colab": {
          "base_uri": "https://localhost:8080/"
        },
        "id": "Nz2BCbBOgJ14",
        "outputId": "3d279ebf-9bfd-4d0e-8797-712f9cd8a93e"
      },
      "outputs": [
        {
          "output_type": "stream",
          "name": "stdout",
          "text": [
            "(11000, 63)\n",
            "(11000,)\n"
          ]
        }
      ],
      "source": [
        "print(X.shape)\n",
        "print(y.shape)"
      ]
    },
    {
      "cell_type": "code",
      "execution_count": 99,
      "metadata": {
        "id": "x_hVbCuIRO5e"
      },
      "outputs": [],
      "source": [
        "# Determine input_dim and set output_dim\n",
        "input_dim = len(tokenizer.word_index) + 1\n",
        "output_dim = 128"
      ]
    },
    {
      "cell_type": "markdown",
      "metadata": {
        "id": "ER6h9zbjHySI"
      },
      "source": [
        "Vocabulary size"
      ]
    },
    {
      "cell_type": "code",
      "execution_count": 100,
      "metadata": {
        "colab": {
          "base_uri": "https://localhost:8080/"
        },
        "id": "h5GDal-6fFOd",
        "outputId": "11decd0d-5f84-4fce-acb1-6947b1cf9260"
      },
      "outputs": [
        {
          "output_type": "execute_result",
          "data": {
            "text/plain": [
              "16873"
            ]
          },
          "metadata": {},
          "execution_count": 100
        }
      ],
      "source": [
        "vocab_size = len(tokenizer.word_index) + 1\n",
        "vocab_size"
      ]
    },
    {
      "cell_type": "code",
      "execution_count": 105,
      "metadata": {
        "colab": {
          "base_uri": "https://localhost:8080/"
        },
        "id": "_aofbCZ3LS9r",
        "outputId": "e26af65c-2f26-4204-b61b-842a4ccf8def"
      },
      "outputs": [
        {
          "output_type": "stream",
          "name": "stdout",
          "text": [
            "(8800, 63) (2200, 63)\n",
            "(8800,) (2200,)\n"
          ]
        }
      ],
      "source": [
        "# Split data into training and test sets\n",
        "X_train, X_test, y_train, y_test = train_test_split(X, y, test_size=0.20, random_state=123)\n",
        "\n",
        "print(X_train.shape, X_test.shape)\n",
        "print(y_train.shape, y_test.shape)"
      ]
    },
    {
      "cell_type": "code",
      "source": [
        "y_train"
      ],
      "metadata": {
        "colab": {
          "base_uri": "https://localhost:8080/"
        },
        "id": "67KLXk3iuJGx",
        "outputId": "9226548f-e83a-4b5f-dde7-d88dd2b88d5c"
      },
      "execution_count": 113,
      "outputs": [
        {
          "output_type": "execute_result",
          "data": {
            "text/plain": [
              "array([2, 0, 1, ..., 2, 2, 2])"
            ]
          },
          "metadata": {},
          "execution_count": 113
        }
      ]
    },
    {
      "cell_type": "code",
      "source": [
        "X_train"
      ],
      "metadata": {
        "colab": {
          "base_uri": "https://localhost:8080/"
        },
        "id": "JiV3zj__uap-",
        "outputId": "2ff9e28f-3cb6-470d-b8a5-6ac13dc6e387"
      },
      "execution_count": 114,
      "outputs": [
        {
          "output_type": "execute_result",
          "data": {
            "text/plain": [
              "array([[    0,     0,     0, ...,     2,   102,   234],\n",
              "       [    0,     0,     0, ..., 13006,  5648,  2668],\n",
              "       [    0,     0,     0, ...,   394,   103, 15808],\n",
              "       ...,\n",
              "       [    0,     0,     0, ...,   134,  2000,    60],\n",
              "       [    0,     0,     0, ...,   128,  5044,    85],\n",
              "       [    0,     0,     0, ...,    34,    24,   339]], dtype=int32)"
            ]
          },
          "metadata": {},
          "execution_count": 114
        }
      ]
    },
    {
      "cell_type": "markdown",
      "metadata": {
        "id": "I8O-lIG2IpZL"
      },
      "source": [
        "Encode labels and Reshape to 2D"
      ]
    },
    {
      "cell_type": "code",
      "execution_count": 116,
      "metadata": {
        "id": "nnz789cOIN6I"
      },
      "outputs": [],
      "source": [
        "onehot_encoder = OneHotEncoder()\n",
        "y_train = y_train.reshape(-1,1)\n",
        "y_test = y_test.reshape(-1,1)"
      ]
    },
    {
      "cell_type": "code",
      "source": [
        "y_train.shape"
      ],
      "metadata": {
        "colab": {
          "base_uri": "https://localhost:8080/"
        },
        "id": "pjLMUiO3ueI4",
        "outputId": "8924df10-2f6e-40f6-f7b0-bd591e4cc6dd"
      },
      "execution_count": 119,
      "outputs": [
        {
          "output_type": "execute_result",
          "data": {
            "text/plain": [
              "(8800, 1)"
            ]
          },
          "metadata": {},
          "execution_count": 119
        }
      ]
    },
    {
      "cell_type": "code",
      "execution_count": 120,
      "metadata": {
        "id": "m1TxF9Z11wo5"
      },
      "outputs": [],
      "source": [
        "# Fit and transform labels to one-hot encoded format\n",
        "onehot_encoder = OneHotEncoder()\n",
        "y_train_hot = onehot_encoder.fit_transform(y_train).toarray()\n",
        "y_test_hot = onehot_encoder.fit_transform(y_test).toarray()"
      ]
    },
    {
      "cell_type": "code",
      "execution_count": 121,
      "metadata": {
        "colab": {
          "base_uri": "https://localhost:8080/"
        },
        "id": "X73pPojW1utx",
        "outputId": "a4dae805-b8f6-4d92-8dde-1906f3d29f8c"
      },
      "outputs": [
        {
          "output_type": "execute_result",
          "data": {
            "text/plain": [
              "array([[0., 0., 1.],\n",
              "       [1., 0., 0.],\n",
              "       [0., 1., 0.],\n",
              "       [1., 0., 0.],\n",
              "       [0., 0., 1.],\n",
              "       [0., 1., 0.],\n",
              "       [0., 0., 1.],\n",
              "       [0., 0., 1.],\n",
              "       [0., 1., 0.],\n",
              "       [0., 1., 0.]])"
            ]
          },
          "metadata": {},
          "execution_count": 121
        }
      ],
      "source": [
        "y_train_hot[0:10]"
      ]
    },
    {
      "cell_type": "code",
      "source": [
        "print('X_train:', X_train.shape)\n",
        "print('X_test:', X_test.shape)\n",
        "print('y_train_hot:', y_train_hot.shape)\n",
        "print('y_test_hot:', y_test_hot.shape)"
      ],
      "metadata": {
        "colab": {
          "base_uri": "https://localhost:8080/"
        },
        "id": "stVBqmZiurvt",
        "outputId": "b00a1874-9cc3-42fe-9aef-0a0883a57cac"
      },
      "execution_count": 122,
      "outputs": [
        {
          "output_type": "stream",
          "name": "stdout",
          "text": [
            "X_train: (8800, 63)\n",
            "X_test: (2200, 63)\n",
            "y_train_hot: (8800, 3)\n",
            "y_test_hot: (2200, 3)\n"
          ]
        }
      ]
    },
    {
      "cell_type": "markdown",
      "metadata": {
        "id": "jZmR7vBhKgIs"
      },
      "source": [
        "# Save tokenizer and vectorizer using pickle"
      ]
    },
    {
      "cell_type": "code",
      "execution_count": 124,
      "metadata": {
        "id": "mNbULM79Kgvq"
      },
      "outputs": [],
      "source": [
        "with open('/content/drive/MyDrive/Platinum Challenge/tokenizer.pickle', 'wb') as f:\n",
        "    pickle.dump(tokenizer, f)\n",
        "with open('/content/drive/MyDrive/Platinum Challenge/onehot_encoder.pickle', 'wb') as f:\n",
        "    pickle.dump(onehot_encoder, f)"
      ]
    },
    {
      "cell_type": "markdown",
      "metadata": {
        "id": "ewzI8fX_MkYr"
      },
      "source": [
        "## Define Neural Network model"
      ]
    },
    {
      "cell_type": "code",
      "execution_count": 149,
      "metadata": {
        "colab": {
          "base_uri": "https://localhost:8080/"
        },
        "id": "UjHy4xt-UvkN",
        "outputId": "b69de6f0-5761-43ea-f1f6-055b2349d50c"
      },
      "outputs": [
        {
          "output_type": "stream",
          "name": "stdout",
          "text": [
            "Model: \"sequential_10\"\n",
            "_________________________________________________________________\n",
            " Layer (type)                Output Shape              Param #   \n",
            "=================================================================\n",
            " embedding_10 (Embedding)    (None, 63, 128)           2159744   \n",
            "                                                                 \n",
            " flatten_7 (Flatten)         (None, 8064)              0         \n",
            "                                                                 \n",
            " dense_30 (Dense)            (None, 64)                516160    \n",
            "                                                                 \n",
            " dense_31 (Dense)            (None, 32)                2080      \n",
            "                                                                 \n",
            " dense_32 (Dense)            (None, 3)                 99        \n",
            "                                                                 \n",
            "=================================================================\n",
            "Total params: 2678083 (10.22 MB)\n",
            "Trainable params: 2678083 (10.22 MB)\n",
            "Non-trainable params: 0 (0.00 Byte)\n",
            "_________________________________________________________________\n"
          ]
        }
      ],
      "source": [
        "model_nn = Sequential([\n",
        "    Embedding(input_dim=input_dim, output_dim=output_dim, input_length=maxlen),\n",
        "    Flatten(),\n",
        "    Dense(64, activation='relu'),\n",
        "    Dense(32, activation='relu'),\n",
        "    Dense(3, activation='softmax')\n",
        "])\n",
        "\n",
        "\n",
        "es = tf.keras.callbacks.EarlyStopping(monitor='val_loss', mode='min', verbose=1, patience=15, restore_best_weights=True)\n",
        "sgd =tf.keras.optimizers.SGD(learning_rate=0.05)\n",
        "#adam = tf.keras.optimizers.Adam(learning_rate=0.001)\n",
        "model_nn.compile(optimizer=sgd, loss='categorical_crossentropy', metrics=['accuracy'])\n",
        "model_nn.summary()"
      ]
    },
    {
      "cell_type": "code",
      "execution_count": 150,
      "metadata": {
        "colab": {
          "base_uri": "https://localhost:8080/"
        },
        "id": "z_zLQYlNrMAb",
        "outputId": "5773a852-026f-4cd1-a905-facb67ed3c1f"
      },
      "outputs": [
        {
          "output_type": "stream",
          "name": "stdout",
          "text": [
            "Epoch 1/100\n",
            "138/138 [==============================] - 6s 41ms/step - loss: 0.8422 - accuracy: 0.6284 - val_loss: 0.7853 - val_accuracy: 0.6650\n",
            "Epoch 2/100\n",
            "138/138 [==============================] - 3s 23ms/step - loss: 0.7651 - accuracy: 0.6684 - val_loss: 0.7491 - val_accuracy: 0.6918\n",
            "Epoch 3/100\n",
            "138/138 [==============================] - 4s 32ms/step - loss: 0.7537 - accuracy: 0.6701 - val_loss: 0.7428 - val_accuracy: 0.6827\n",
            "Epoch 4/100\n",
            "138/138 [==============================] - 5s 36ms/step - loss: 0.7430 - accuracy: 0.6719 - val_loss: 0.7283 - val_accuracy: 0.6950\n",
            "Epoch 5/100\n",
            "138/138 [==============================] - 4s 32ms/step - loss: 0.7275 - accuracy: 0.6749 - val_loss: 0.7097 - val_accuracy: 0.6995\n",
            "Epoch 6/100\n",
            "138/138 [==============================] - 4s 29ms/step - loss: 0.6983 - accuracy: 0.6873 - val_loss: 0.6912 - val_accuracy: 0.6900\n",
            "Epoch 7/100\n",
            "138/138 [==============================] - 4s 28ms/step - loss: 0.6637 - accuracy: 0.7068 - val_loss: 0.6420 - val_accuracy: 0.7423\n",
            "Epoch 8/100\n",
            "138/138 [==============================] - 5s 36ms/step - loss: 0.6245 - accuracy: 0.7330 - val_loss: 0.6066 - val_accuracy: 0.7632\n",
            "Epoch 9/100\n",
            "138/138 [==============================] - 4s 32ms/step - loss: 0.5856 - accuracy: 0.7538 - val_loss: 0.5868 - val_accuracy: 0.7655\n",
            "Epoch 10/100\n",
            "138/138 [==============================] - 4s 29ms/step - loss: 0.5567 - accuracy: 0.7647 - val_loss: 0.5895 - val_accuracy: 0.7614\n",
            "Epoch 11/100\n",
            "138/138 [==============================] - 5s 36ms/step - loss: 0.5251 - accuracy: 0.7730 - val_loss: 0.5626 - val_accuracy: 0.7714\n",
            "Epoch 12/100\n",
            "138/138 [==============================] - 5s 34ms/step - loss: 0.4988 - accuracy: 0.7828 - val_loss: 0.5399 - val_accuracy: 0.7795\n",
            "Epoch 13/100\n",
            "138/138 [==============================] - 4s 26ms/step - loss: 0.4720 - accuracy: 0.7927 - val_loss: 0.5397 - val_accuracy: 0.7736\n",
            "Epoch 14/100\n",
            "138/138 [==============================] - 3s 22ms/step - loss: 0.4460 - accuracy: 0.8042 - val_loss: 0.5984 - val_accuracy: 0.7518\n",
            "Epoch 15/100\n",
            "138/138 [==============================] - 5s 35ms/step - loss: 0.4259 - accuracy: 0.8090 - val_loss: 0.5263 - val_accuracy: 0.7836\n",
            "Epoch 16/100\n",
            "138/138 [==============================] - 4s 30ms/step - loss: 0.3900 - accuracy: 0.8243 - val_loss: 0.5470 - val_accuracy: 0.7632\n",
            "Epoch 17/100\n",
            "138/138 [==============================] - 4s 28ms/step - loss: 0.3658 - accuracy: 0.8339 - val_loss: 0.5133 - val_accuracy: 0.7918\n",
            "Epoch 18/100\n",
            "138/138 [==============================] - 3s 22ms/step - loss: 0.3375 - accuracy: 0.8523 - val_loss: 0.5190 - val_accuracy: 0.8014\n",
            "Epoch 19/100\n",
            "138/138 [==============================] - 5s 34ms/step - loss: 0.3053 - accuracy: 0.8736 - val_loss: 0.5227 - val_accuracy: 0.7950\n",
            "Epoch 20/100\n",
            "138/138 [==============================] - 5s 37ms/step - loss: 0.2788 - accuracy: 0.8945 - val_loss: 0.5462 - val_accuracy: 0.7964\n",
            "Epoch 21/100\n",
            "138/138 [==============================] - 3s 24ms/step - loss: 0.2384 - accuracy: 0.9169 - val_loss: 0.5258 - val_accuracy: 0.8055\n",
            "Epoch 22/100\n",
            "138/138 [==============================] - 4s 25ms/step - loss: 0.2127 - accuracy: 0.9277 - val_loss: 0.5156 - val_accuracy: 0.8109\n",
            "Epoch 23/100\n",
            "138/138 [==============================] - 5s 35ms/step - loss: 0.1781 - accuracy: 0.9439 - val_loss: 0.5534 - val_accuracy: 0.8177\n",
            "Epoch 24/100\n",
            "138/138 [==============================] - 5s 34ms/step - loss: 0.1490 - accuracy: 0.9555 - val_loss: 0.5444 - val_accuracy: 0.8073\n",
            "Epoch 25/100\n",
            "138/138 [==============================] - 3s 22ms/step - loss: 0.1305 - accuracy: 0.9625 - val_loss: 0.5287 - val_accuracy: 0.8123\n",
            "Epoch 26/100\n",
            "138/138 [==============================] - 4s 31ms/step - loss: 0.1070 - accuracy: 0.9703 - val_loss: 0.5524 - val_accuracy: 0.8186\n",
            "Epoch 27/100\n",
            "138/138 [==============================] - 5s 36ms/step - loss: 0.0881 - accuracy: 0.9753 - val_loss: 0.5756 - val_accuracy: 0.8109\n",
            "Epoch 28/100\n",
            "138/138 [==============================] - 3s 23ms/step - loss: 0.0729 - accuracy: 0.9809 - val_loss: 0.5891 - val_accuracy: 0.8136\n",
            "Epoch 29/100\n",
            "138/138 [==============================] - 3s 22ms/step - loss: 0.1713 - accuracy: 0.9492 - val_loss: 0.5629 - val_accuracy: 0.8227\n",
            "Epoch 30/100\n",
            "138/138 [==============================] - 4s 28ms/step - loss: 0.0647 - accuracy: 0.9815 - val_loss: 0.5861 - val_accuracy: 0.8205\n",
            "Epoch 31/100\n",
            "138/138 [==============================] - 5s 35ms/step - loss: 0.0517 - accuracy: 0.9850 - val_loss: 0.6244 - val_accuracy: 0.8241\n",
            "Epoch 32/100\n",
            "137/138 [============================>.] - ETA: 0s - loss: 0.0452 - accuracy: 0.9869Restoring model weights from the end of the best epoch: 17.\n",
            "138/138 [==============================] - 4s 30ms/step - loss: 0.0451 - accuracy: 0.9869 - val_loss: 0.6212 - val_accuracy: 0.8191\n",
            "Epoch 32: early stopping\n"
          ]
        }
      ],
      "source": [
        "history_nn = model_nn.fit(X_train, y_train_hot, epochs=100, validation_data=(X_test, y_test_hot), batch_size=64, callbacks=[es])"
      ]
    },
    {
      "cell_type": "code",
      "execution_count": 145,
      "metadata": {
        "colab": {
          "base_uri": "https://localhost:8080/",
          "height": 564
        },
        "id": "YbPqBBxVjrEZ",
        "outputId": "8935843c-e763-4ada-f396-149ead9de2f9"
      },
      "outputs": [
        {
          "output_type": "display_data",
          "data": {
            "text/plain": [
              "<Figure size 800x600 with 1 Axes>"
            ],
            "image/png": "[encoded data removed]"
          },
          "metadata": {}
        }
      ],
      "source": [
        "result = history_nn.history\n",
        "n_epochs = np.arange(0, len(result['accuracy']))\n",
        "\n",
        "plt.figure(figsize=(8,6))\n",
        "plt.title(\"Loss\")\n",
        "plt.plot(n_epochs, result['loss'], label='Train')\n",
        "plt.plot(n_epochs, result['val_loss'], label='Val')\n",
        "plt.xlabel(\"Epoch\")\n",
        "plt.ylabel('Loss')\n",
        "plt.legend()\n",
        "plt.grid()\n",
        "plt.show()"
      ]
    },
    {
      "cell_type": "code",
      "execution_count": 146,
      "metadata": {
        "colab": {
          "base_uri": "https://localhost:8080/"
        },
        "id": "wuIiRmjWp04u",
        "outputId": "1f185087-3c97-47e1-89f0-5fe48197f7e8"
      },
      "outputs": [
        {
          "output_type": "stream",
          "name": "stderr",
          "text": [
            "/usr/local/lib/python3.10/dist-packages/keras/src/engine/training.py:3103: UserWarning: You are saving your model as an HDF5 file via `model.save()`. This file format is considered legacy. We recommend using instead the native Keras format, e.g. `model.save('my_model.keras')`.\n",
            "  saving_api.save_model(\n"
          ]
        }
      ],
      "source": [
        "# Save NN model\n",
        "model_nn.save('/content/drive/MyDrive/Platinum Challenge/Neural Network.h5')"
      ]
    },
    {
      "cell_type": "code",
      "source": [
        "# Predict pakai data test atau data eval\n",
        "y_pred_test_nn = model_nn.predict(X_test)"
      ],
      "metadata": {
        "colab": {
          "base_uri": "https://localhost:8080/"
        },
        "id": "lQJHuHSByWp2",
        "outputId": "e4bd606a-992d-4b4a-aecb-7a55583768ae"
      },
      "execution_count": 147,
      "outputs": [
        {
          "output_type": "stream",
          "name": "stdout",
          "text": [
            "69/69 [==============================] - 1s 6ms/step\n"
          ]
        }
      ]
    },
    {
      "cell_type": "code",
      "source": [
        "# Checking f1 score\n",
        "matrix_test_nn = metrics.classification_report(y_test_hot.argmax(axis=1), y_pred_test_nn.argmax(axis=1))\n",
        "print(matrix_test_nn)"
      ],
      "metadata": {
        "colab": {
          "base_uri": "https://localhost:8080/"
        },
        "id": "J4s_F30ByllY",
        "outputId": "3c675fe0-d4ee-4c6b-b66c-54b5bc331583"
      },
      "execution_count": 148,
      "outputs": [
        {
          "output_type": "stream",
          "name": "stdout",
          "text": [
            "              precision    recall  f1-score   support\n",
            "\n",
            "           0       0.68      0.81      0.74       708\n",
            "           1       0.75      0.23      0.36       213\n",
            "           2       0.89      0.90      0.89      1279\n",
            "\n",
            "    accuracy                           0.80      2200\n",
            "   macro avg       0.77      0.65      0.66      2200\n",
            "weighted avg       0.81      0.80      0.79      2200\n",
            "\n"
          ]
        }
      ]
    },
    {
      "cell_type": "markdown",
      "metadata": {
        "id": "_jI3hNnNcqmy"
      },
      "source": []
    },
    {
      "cell_type": "markdown",
      "metadata": {
        "id": "BJz1U2HRpBP3"
      },
      "source": [
        "## Define LSTM model"
      ]
    },
    {
      "cell_type": "code",
      "execution_count": 157,
      "metadata": {
        "colab": {
          "base_uri": "https://localhost:8080/"
        },
        "id": "fNW9Uj1Ao96x",
        "outputId": "47c5561c-bb55-47ef-9b51-a577a07d8aea"
      },
      "outputs": [
        {
          "output_type": "stream",
          "name": "stdout",
          "text": [
            "Model: \"sequential_12\"\n",
            "_________________________________________________________________\n",
            " Layer (type)                Output Shape              Param #   \n",
            "=================================================================\n",
            " embedding_13 (Embedding)    (None, 63, 128)           2159744   \n",
            "                                                                 \n",
            " lstm_6 (LSTM)               (None, 64)                49408     \n",
            "                                                                 \n",
            " dropout_5 (Dropout)         (None, 64)                0         \n",
            "                                                                 \n",
            " dense_35 (Dense)            (None, 32)                2080      \n",
            "                                                                 \n",
            " dense_36 (Dense)            (None, 3)                 99        \n",
            "                                                                 \n",
            "=================================================================\n",
            "Total params: 2211331 (8.44 MB)\n",
            "Trainable params: 2211331 (8.44 MB)\n",
            "Non-trainable params: 0 (0.00 Byte)\n",
            "_________________________________________________________________\n"
          ]
        }
      ],
      "source": [
        "embed_dim = 128\n",
        "lstm_out = 32\n",
        "model_lstm = Sequential([\n",
        "    Embedding(input_dim=input_dim, output_dim=embed_dim, input_length=X_train.shape[1]),\n",
        "    LSTM(64, activation='tanh'),\n",
        "    Dropout(0.2),\n",
        "    Dense(32, activation='relu'),\n",
        "    Dense(3, activation='softmax')\n",
        "])\n",
        "\n",
        "es = tf.keras.callbacks.EarlyStopping(monitor='val_accuracy', mode='max', verbose=1, patience=15, restore_best_weights=True)\n",
        "#adam = tf.keras.optimizers.Adam(learning_rate=0.001)\n",
        "sgd = tf.keras.optimizers.SGD(learning_rate=0.005)\n",
        "model_lstm.compile(optimizer=sgd, loss='categorical_crossentropy', metrics=['accuracy'])\n",
        "model_lstm.summary()\n"
      ]
    },
    {
      "cell_type": "code",
      "execution_count": 159,
      "metadata": {
        "colab": {
          "base_uri": "https://localhost:8080/"
        },
        "id": "xCPHrElPrLXP",
        "outputId": "8c360683-717c-441d-d664-9d236a66f3db"
      },
      "outputs": [
        {
          "output_type": "stream",
          "name": "stdout",
          "text": [
            "Epoch 1/100\n",
            "138/138 [==============================] - 18s 133ms/step - loss: 0.5517 - accuracy: 0.7703 - val_loss: 0.5550 - val_accuracy: 0.7768\n",
            "Epoch 2/100\n",
            "138/138 [==============================] - 19s 136ms/step - loss: 0.5485 - accuracy: 0.7715 - val_loss: 0.5598 - val_accuracy: 0.7727\n",
            "Epoch 3/100\n",
            "138/138 [==============================] - 16s 119ms/step - loss: 0.5476 - accuracy: 0.7710 - val_loss: 0.6107 - val_accuracy: 0.7568\n",
            "Epoch 4/100\n",
            "138/138 [==============================] - 17s 123ms/step - loss: 0.5438 - accuracy: 0.7731 - val_loss: 0.5528 - val_accuracy: 0.7782\n",
            "Epoch 5/100\n",
            "138/138 [==============================] - 19s 137ms/step - loss: 0.5406 - accuracy: 0.7717 - val_loss: 0.5547 - val_accuracy: 0.7727\n",
            "Epoch 6/100\n",
            "138/138 [==============================] - 23s 170ms/step - loss: 0.5368 - accuracy: 0.7738 - val_loss: 0.5410 - val_accuracy: 0.7827\n",
            "Epoch 7/100\n",
            "138/138 [==============================] - 16s 119ms/step - loss: 0.5335 - accuracy: 0.7766 - val_loss: 0.5426 - val_accuracy: 0.7795\n",
            "Epoch 8/100\n",
            "138/138 [==============================] - 16s 120ms/step - loss: 0.5317 - accuracy: 0.7763 - val_loss: 0.5398 - val_accuracy: 0.7818\n",
            "Epoch 9/100\n",
            "138/138 [==============================] - 17s 121ms/step - loss: 0.5297 - accuracy: 0.7773 - val_loss: 0.5389 - val_accuracy: 0.7841\n",
            "Epoch 10/100\n",
            "138/138 [==============================] - 16s 117ms/step - loss: 0.5267 - accuracy: 0.7793 - val_loss: 0.5489 - val_accuracy: 0.7782\n",
            "Epoch 11/100\n",
            "138/138 [==============================] - 17s 120ms/step - loss: 0.5226 - accuracy: 0.7815 - val_loss: 0.5355 - val_accuracy: 0.7814\n",
            "Epoch 12/100\n",
            "138/138 [==============================] - 17s 121ms/step - loss: 0.5195 - accuracy: 0.7825 - val_loss: 0.5367 - val_accuracy: 0.7814\n",
            "Epoch 13/100\n",
            "138/138 [==============================] - 16s 119ms/step - loss: 0.5215 - accuracy: 0.7798 - val_loss: 0.5410 - val_accuracy: 0.7827\n",
            "Epoch 14/100\n",
            "138/138 [==============================] - 16s 117ms/step - loss: 0.5190 - accuracy: 0.7822 - val_loss: 0.5383 - val_accuracy: 0.7823\n",
            "Epoch 15/100\n",
            "138/138 [==============================] - 17s 122ms/step - loss: 0.5129 - accuracy: 0.7844 - val_loss: 0.5335 - val_accuracy: 0.7850\n",
            "Epoch 16/100\n",
            "138/138 [==============================] - 17s 121ms/step - loss: 0.5105 - accuracy: 0.7852 - val_loss: 0.5318 - val_accuracy: 0.7845\n",
            "Epoch 17/100\n",
            "138/138 [==============================] - 21s 149ms/step - loss: 0.5078 - accuracy: 0.7831 - val_loss: 0.5376 - val_accuracy: 0.7827\n",
            "Epoch 18/100\n",
            "138/138 [==============================] - 17s 121ms/step - loss: 0.5048 - accuracy: 0.7859 - val_loss: 0.5336 - val_accuracy: 0.7832\n",
            "Epoch 19/100\n",
            "138/138 [==============================] - 16s 118ms/step - loss: 0.5035 - accuracy: 0.7870 - val_loss: 0.5320 - val_accuracy: 0.7841\n",
            "Epoch 20/100\n",
            "138/138 [==============================] - 16s 119ms/step - loss: 0.4983 - accuracy: 0.7906 - val_loss: 0.5342 - val_accuracy: 0.7845\n",
            "Epoch 21/100\n",
            "138/138 [==============================] - 17s 121ms/step - loss: 0.4976 - accuracy: 0.7876 - val_loss: 0.5324 - val_accuracy: 0.7836\n",
            "Epoch 22/100\n",
            "138/138 [==============================] - 16s 115ms/step - loss: 0.4939 - accuracy: 0.7900 - val_loss: 0.5352 - val_accuracy: 0.7818\n",
            "Epoch 23/100\n",
            "138/138 [==============================] - 16s 118ms/step - loss: 0.4916 - accuracy: 0.7905 - val_loss: 0.5286 - val_accuracy: 0.7868\n",
            "Epoch 24/100\n",
            "138/138 [==============================] - 16s 117ms/step - loss: 0.4893 - accuracy: 0.7935 - val_loss: 0.5484 - val_accuracy: 0.7755\n",
            "Epoch 25/100\n",
            "138/138 [==============================] - 16s 119ms/step - loss: 0.4876 - accuracy: 0.7960 - val_loss: 0.5382 - val_accuracy: 0.7809\n",
            "Epoch 26/100\n",
            "138/138 [==============================] - 16s 118ms/step - loss: 0.4868 - accuracy: 0.7942 - val_loss: 0.5260 - val_accuracy: 0.7864\n",
            "Epoch 27/100\n",
            "138/138 [==============================] - 16s 118ms/step - loss: 0.4824 - accuracy: 0.7949 - val_loss: 0.5255 - val_accuracy: 0.7882\n",
            "Epoch 28/100\n",
            "138/138 [==============================] - 16s 118ms/step - loss: 0.4837 - accuracy: 0.7959 - val_loss: 0.5235 - val_accuracy: 0.7877\n",
            "Epoch 29/100\n",
            "138/138 [==============================] - 16s 119ms/step - loss: 0.4756 - accuracy: 0.7968 - val_loss: 0.5358 - val_accuracy: 0.7873\n",
            "Epoch 30/100\n",
            "138/138 [==============================] - 16s 119ms/step - loss: 0.4725 - accuracy: 0.7985 - val_loss: 0.5252 - val_accuracy: 0.7873\n",
            "Epoch 31/100\n",
            "138/138 [==============================] - 17s 120ms/step - loss: 0.4746 - accuracy: 0.7982 - val_loss: 0.5305 - val_accuracy: 0.7827\n",
            "Epoch 32/100\n",
            "138/138 [==============================] - 16s 118ms/step - loss: 0.4710 - accuracy: 0.8012 - val_loss: 0.5572 - val_accuracy: 0.7764\n",
            "Epoch 33/100\n",
            "138/138 [==============================] - 21s 153ms/step - loss: 0.4672 - accuracy: 0.8000 - val_loss: 0.5230 - val_accuracy: 0.7886\n",
            "Epoch 34/100\n",
            "138/138 [==============================] - 16s 113ms/step - loss: 0.4631 - accuracy: 0.8035 - val_loss: 0.5380 - val_accuracy: 0.7850\n",
            "Epoch 35/100\n",
            "138/138 [==============================] - 16s 118ms/step - loss: 0.4624 - accuracy: 0.8030 - val_loss: 0.5209 - val_accuracy: 0.7877\n",
            "Epoch 36/100\n",
            "138/138 [==============================] - 16s 118ms/step - loss: 0.4614 - accuracy: 0.8064 - val_loss: 0.5266 - val_accuracy: 0.7868\n",
            "Epoch 37/100\n",
            "138/138 [==============================] - 16s 119ms/step - loss: 0.4802 - accuracy: 0.7969 - val_loss: 0.5570 - val_accuracy: 0.7782\n",
            "Epoch 38/100\n",
            "138/138 [==============================] - 16s 118ms/step - loss: 0.4621 - accuracy: 0.8019 - val_loss: 0.5473 - val_accuracy: 0.7850\n",
            "Epoch 39/100\n",
            "138/138 [==============================] - 16s 118ms/step - loss: 0.4530 - accuracy: 0.8078 - val_loss: 0.5363 - val_accuracy: 0.7823\n",
            "Epoch 40/100\n",
            "138/138 [==============================] - 16s 117ms/step - loss: 0.4522 - accuracy: 0.8064 - val_loss: 0.6016 - val_accuracy: 0.7536\n",
            "Epoch 41/100\n",
            "138/138 [==============================] - 16s 116ms/step - loss: 0.4568 - accuracy: 0.8044 - val_loss: 0.5209 - val_accuracy: 0.7864\n",
            "Epoch 42/100\n",
            "138/138 [==============================] - 17s 124ms/step - loss: 0.4466 - accuracy: 0.8102 - val_loss: 0.5253 - val_accuracy: 0.7886\n",
            "Epoch 43/100\n",
            "138/138 [==============================] - 19s 135ms/step - loss: 0.4416 - accuracy: 0.8109 - val_loss: 0.5199 - val_accuracy: 0.7873\n",
            "Epoch 44/100\n",
            "138/138 [==============================] - 16s 117ms/step - loss: 0.4399 - accuracy: 0.8114 - val_loss: 0.5278 - val_accuracy: 0.7841\n",
            "Epoch 45/100\n",
            "138/138 [==============================] - 16s 115ms/step - loss: 0.4385 - accuracy: 0.8138 - val_loss: 0.5189 - val_accuracy: 0.7905\n",
            "Epoch 46/100\n",
            "138/138 [==============================] - 16s 118ms/step - loss: 0.4368 - accuracy: 0.8116 - val_loss: 0.5220 - val_accuracy: 0.7895\n",
            "Epoch 47/100\n",
            "138/138 [==============================] - 16s 117ms/step - loss: 0.4361 - accuracy: 0.8126 - val_loss: 0.5125 - val_accuracy: 0.7941\n",
            "Epoch 48/100\n",
            "138/138 [==============================] - 16s 117ms/step - loss: 0.4305 - accuracy: 0.8143 - val_loss: 0.5175 - val_accuracy: 0.7927\n",
            "Epoch 49/100\n",
            "138/138 [==============================] - 19s 141ms/step - loss: 0.4319 - accuracy: 0.8134 - val_loss: 0.5528 - val_accuracy: 0.7764\n",
            "Epoch 50/100\n",
            "138/138 [==============================] - 17s 123ms/step - loss: 0.4263 - accuracy: 0.8189 - val_loss: 0.5223 - val_accuracy: 0.7914\n",
            "Epoch 51/100\n",
            "138/138 [==============================] - 16s 119ms/step - loss: 0.4218 - accuracy: 0.8180 - val_loss: 0.5208 - val_accuracy: 0.7914\n",
            "Epoch 52/100\n",
            "138/138 [==============================] - 16s 115ms/step - loss: 0.4232 - accuracy: 0.8144 - val_loss: 0.5537 - val_accuracy: 0.7764\n",
            "Epoch 53/100\n",
            "138/138 [==============================] - 16s 118ms/step - loss: 0.4257 - accuracy: 0.8161 - val_loss: 0.5307 - val_accuracy: 0.7909\n",
            "Epoch 54/100\n",
            "138/138 [==============================] - 16s 116ms/step - loss: 0.4214 - accuracy: 0.8175 - val_loss: 0.5206 - val_accuracy: 0.7918\n",
            "Epoch 55/100\n",
            "138/138 [==============================] - 17s 120ms/step - loss: 0.4158 - accuracy: 0.8180 - val_loss: 0.5191 - val_accuracy: 0.7900\n",
            "Epoch 56/100\n",
            "138/138 [==============================] - 16s 119ms/step - loss: 0.4132 - accuracy: 0.8210 - val_loss: 0.5769 - val_accuracy: 0.7845\n",
            "Epoch 57/100\n",
            "138/138 [==============================] - 16s 118ms/step - loss: 0.4108 - accuracy: 0.8225 - val_loss: 0.5189 - val_accuracy: 0.7918\n",
            "Epoch 58/100\n",
            "138/138 [==============================] - 16s 118ms/step - loss: 0.4566 - accuracy: 0.8036 - val_loss: 0.6205 - val_accuracy: 0.7523\n",
            "Epoch 59/100\n",
            "138/138 [==============================] - 16s 115ms/step - loss: 0.4305 - accuracy: 0.8134 - val_loss: 0.5472 - val_accuracy: 0.7777\n",
            "Epoch 60/100\n",
            "138/138 [==============================] - 16s 118ms/step - loss: 0.4133 - accuracy: 0.8197 - val_loss: 0.5240 - val_accuracy: 0.7850\n",
            "Epoch 61/100\n",
            "138/138 [==============================] - 16s 118ms/step - loss: 0.4081 - accuracy: 0.8230 - val_loss: 0.5350 - val_accuracy: 0.7791\n",
            "Epoch 62/100\n",
            "138/138 [==============================] - ETA: 0s - loss: 0.4064 - accuracy: 0.8222Restoring model weights from the end of the best epoch: 47.\n",
            "138/138 [==============================] - 16s 119ms/step - loss: 0.4064 - accuracy: 0.8222 - val_loss: 0.5218 - val_accuracy: 0.7914\n",
            "Epoch 62: early stopping\n"
          ]
        }
      ],
      "source": [
        "history_lstm = model_lstm.fit(X_train, y_train_hot, epochs=100, validation_data=(X_test, y_test_hot), batch_size=64, callbacks=[es])"
      ]
    },
    {
      "cell_type": "code",
      "execution_count": 162,
      "metadata": {
        "colab": {
          "base_uri": "https://localhost:8080/",
          "height": 649
        },
        "id": "G8eWjFXfsPZa",
        "outputId": "1e6f0ddb-140d-4e36-b46e-7a704b37833e"
      },
      "outputs": [
        {
          "output_type": "stream",
          "name": "stderr",
          "text": [
            "Exception ignored in: <function _xla_gc_callback at 0x7a6c1b43eef0>\n",
            "Traceback (most recent call last):\n",
            "  File \"/usr/local/lib/python3.10/dist-packages/jax/_src/lib/__init__.py\", line 98, in _xla_gc_callback\n",
            "    def _xla_gc_callback(*args):\n",
            "KeyboardInterrupt: \n"
          ]
        },
        {
          "output_type": "display_data",
          "data": {
            "text/plain": [
              "<Figure size 800x600 with 1 Axes>"
            ],
            "image/png": "[encoded data removed]"
          },
          "metadata": {}
        }
      ],
      "source": [
        "result = history_lstm.history\n",
        "n_epochs = np.arange(0, len(result['accuracy']))\n",
        "\n",
        "plt.figure(figsize=(8,6))\n",
        "plt.title(\"Loss\")\n",
        "plt.plot(n_epochs, result['loss'], label='Train')\n",
        "plt.plot(n_epochs, result['val_loss'], label='Val')\n",
        "plt.xlabel(\"Epoch\")\n",
        "plt.ylabel('Loss')\n",
        "plt.legend()\n",
        "plt.grid()\n",
        "plt.show()"
      ]
    },
    {
      "cell_type": "code",
      "execution_count": 163,
      "metadata": {
        "colab": {
          "base_uri": "https://localhost:8080/"
        },
        "id": "miwK48UpqQdN",
        "outputId": "ce2780bb-56e1-41fb-be9f-dba8b3673782"
      },
      "outputs": [
        {
          "output_type": "stream",
          "name": "stderr",
          "text": [
            "/usr/local/lib/python3.10/dist-packages/keras/src/engine/training.py:3103: UserWarning: You are saving your model as an HDF5 file via `model.save()`. This file format is considered legacy. We recommend using instead the native Keras format, e.g. `model.save('my_model.keras')`.\n",
            "  saving_api.save_model(\n"
          ]
        }
      ],
      "source": [
        "# Save LSTM model\n",
        "model_lstm.save('/content/drive/MyDrive/Platinum Challenge/LSTM.h5')"
      ]
    },
    {
      "cell_type": "code",
      "source": [
        "# Predict pakai data test atau data eval\n",
        "y_pred_test_lstm = model_lstm.predict(X_test)"
      ],
      "metadata": {
        "colab": {
          "base_uri": "https://localhost:8080/"
        },
        "id": "QGCT0c5Y9FUM",
        "outputId": "7cd73835-fc45-472a-9613-b5d28e33b2bd"
      },
      "execution_count": 164,
      "outputs": [
        {
          "output_type": "stream",
          "name": "stdout",
          "text": [
            "69/69 [==============================] - 5s 28ms/step\n"
          ]
        }
      ]
    },
    {
      "cell_type": "code",
      "execution_count": 165,
      "metadata": {
        "colab": {
          "base_uri": "https://localhost:8080/"
        },
        "id": "pkzBwm7Ls-VV",
        "outputId": "a0e7f233-6d79-49e6-a1af-1315e3a1a8ee"
      },
      "outputs": [
        {
          "output_type": "stream",
          "name": "stdout",
          "text": [
            "              precision    recall  f1-score   support\n",
            "\n",
            "           0       0.65      0.83      0.73       708\n",
            "           1       0.00      0.00      0.00       213\n",
            "           2       0.90      0.90      0.90      1279\n",
            "\n",
            "    accuracy                           0.79      2200\n",
            "   macro avg       0.52      0.58      0.54      2200\n",
            "weighted avg       0.73      0.79      0.76      2200\n",
            "\n"
          ]
        },
        {
          "output_type": "stream",
          "name": "stderr",
          "text": [
            "/usr/local/lib/python3.10/dist-packages/sklearn/metrics/_classification.py:1344: UndefinedMetricWarning: Precision and F-score are ill-defined and being set to 0.0 in labels with no predicted samples. Use `zero_division` parameter to control this behavior.\n",
            "  _warn_prf(average, modifier, msg_start, len(result))\n",
            "/usr/local/lib/python3.10/dist-packages/sklearn/metrics/_classification.py:1344: UndefinedMetricWarning: Precision and F-score are ill-defined and being set to 0.0 in labels with no predicted samples. Use `zero_division` parameter to control this behavior.\n",
            "  _warn_prf(average, modifier, msg_start, len(result))\n",
            "/usr/local/lib/python3.10/dist-packages/sklearn/metrics/_classification.py:1344: UndefinedMetricWarning: Precision and F-score are ill-defined and being set to 0.0 in labels with no predicted samples. Use `zero_division` parameter to control this behavior.\n",
            "  _warn_prf(average, modifier, msg_start, len(result))\n"
          ]
        }
      ],
      "source": [
        "# Checking f1 score\n",
        "matrix_test_lstm = metrics.classification_report(y_test_hot.argmax(axis=1), y_pred_test_lstm.argmax(axis=1))\n",
        "print(matrix_test_lstm)"
      ]
    },
    {
      "cell_type": "code",
      "execution_count": 166,
      "metadata": {
        "colab": {
          "base_uri": "https://localhost:8080/",
          "height": 264
        },
        "id": "3jA9x0Q0ibV7",
        "outputId": "67baefda-892b-4a0f-8269-85f5c13582f6"
      },
      "outputs": [
        {
          "output_type": "stream",
          "name": "stderr",
          "text": [
            "/usr/local/lib/python3.10/dist-packages/sklearn/utils/validation.py:1143: DataConversionWarning: A column-vector y was passed when a 1d array was expected. Please change the shape of y to (n_samples, ), for example using ravel().\n",
            "  y = column_or_1d(y, warn=True)\n",
            "/usr/local/lib/python3.10/dist-packages/sklearn/linear_model/_logistic.py:458: ConvergenceWarning: lbfgs failed to converge (status=1):\n",
            "STOP: TOTAL NO. of ITERATIONS REACHED LIMIT.\n",
            "\n",
            "Increase the number of iterations (max_iter) or scale the data as shown in:\n",
            "    https://scikit-learn.org/stable/modules/preprocessing.html\n",
            "Please also refer to the documentation for alternative solver options:\n",
            "    https://scikit-learn.org/stable/modules/linear_model.html#logistic-regression\n",
            "  n_iter_i = _check_optimize_result(\n"
          ]
        },
        {
          "output_type": "execute_result",
          "data": {
            "text/plain": [
              "LogisticRegression()"
            ],
            "text/html": [
              "<style>#sk-container-id-1 {color: black;background-color: white;}#sk-container-id-1 pre{padding: 0;}#sk-container-id-1 div.sk-toggleable {background-color: white;}#sk-container-id-1 label.sk-toggleable__label {cursor: pointer;display: block;width: 100%;margin-bottom: 0;padding: 0.3em;box-sizing: border-box;text-align: center;}#sk-container-id-1 label.sk-toggleable__label-arrow:before {content: \"▸\";float: left;margin-right: 0.25em;color: #696969;}#sk-container-id-1 label.sk-toggleable__label-arrow:hover:before {color: black;}#sk-container-id-1 div.sk-estimator:hover label.sk-toggleable__label-arrow:before {color: black;}#sk-container-id-1 div.sk-toggleable__content {max-height: 0;max-width: 0;overflow: hidden;text-align: left;background-color: #f0f8ff;}#sk-container-id-1 div.sk-toggleable__content pre {margin: 0.2em;color: black;border-radius: 0.25em;background-color: #f0f8ff;}#sk-container-id-1 input.sk-toggleable__control:checked~div.sk-toggleable__content {max-height: 200px;max-width: 100%;overflow: auto;}#sk-container-id-1 input.sk-toggleable__control:checked~label.sk-toggleable__label-arrow:before {content: \"▾\";}#sk-container-id-1 div.sk-estimator input.sk-toggleable__control:checked~label.sk-toggleable__label {background-color: #d4ebff;}#sk-container-id-1 div.sk-label input.sk-toggleable__control:checked~label.sk-toggleable__label {background-color: #d4ebff;}#sk-container-id-1 input.sk-hidden--visually {border: 0;clip: rect(1px 1px 1px 1px);clip: rect(1px, 1px, 1px, 1px);height: 1px;margin: -1px;overflow: hidden;padding: 0;position: absolute;width: 1px;}#sk-container-id-1 div.sk-estimator {font-family: monospace;background-color: #f0f8ff;border: 1px dotted black;border-radius: 0.25em;box-sizing: border-box;margin-bottom: 0.5em;}#sk-container-id-1 div.sk-estimator:hover {background-color: #d4ebff;}#sk-container-id-1 div.sk-parallel-item::after {content: \"\";width: 100%;border-bottom: 1px solid gray;flex-grow: 1;}#sk-container-id-1 div.sk-label:hover label.sk-toggleable__label {background-color: #d4ebff;}#sk-container-id-1 div.sk-serial::before {content: \"\";position: absolute;border-left: 1px solid gray;box-sizing: border-box;top: 0;bottom: 0;left: 50%;z-index: 0;}#sk-container-id-1 div.sk-serial {display: flex;flex-direction: column;align-items: center;background-color: white;padding-right: 0.2em;padding-left: 0.2em;position: relative;}#sk-container-id-1 div.sk-item {position: relative;z-index: 1;}#sk-container-id-1 div.sk-parallel {display: flex;align-items: stretch;justify-content: center;background-color: white;position: relative;}#sk-container-id-1 div.sk-item::before, #sk-container-id-1 div.sk-parallel-item::before {content: \"\";position: absolute;border-left: 1px solid gray;box-sizing: border-box;top: 0;bottom: 0;left: 50%;z-index: -1;}#sk-container-id-1 div.sk-parallel-item {display: flex;flex-direction: column;z-index: 1;position: relative;background-color: white;}#sk-container-id-1 div.sk-parallel-item:first-child::after {align-self: flex-end;width: 50%;}#sk-container-id-1 div.sk-parallel-item:last-child::after {align-self: flex-start;width: 50%;}#sk-container-id-1 div.sk-parallel-item:only-child::after {width: 0;}#sk-container-id-1 div.sk-dashed-wrapped {border: 1px dashed gray;margin: 0 0.4em 0.5em 0.4em;box-sizing: border-box;padding-bottom: 0.4em;background-color: white;}#sk-container-id-1 div.sk-label label {font-family: monospace;font-weight: bold;display: inline-block;line-height: 1.2em;}#sk-container-id-1 div.sk-label-container {text-align: center;}#sk-container-id-1 div.sk-container {/* jupyter's `normalize.less` sets `[hidden] { display: none; }` but bootstrap.min.css set `[hidden] { display: none !important; }` so we also need the `!important` here to be able to override the default hidden behavior on the sphinx rendered scikit-learn.org. See: https://github.com/scikit-learn/scikit-learn/issues/21755 */display: inline-block !important;position: relative;}#sk-container-id-1 div.sk-text-repr-fallback {display: none;}</style><div id=\"sk-container-id-1\" class=\"sk-top-container\"><div class=\"sk-text-repr-fallback\"><pre>LogisticRegression()</pre><b>In a Jupyter environment, please rerun this cell to show the HTML representation or trust the notebook. <br />On GitHub, the HTML representation is unable to render, please try loading this page with nbviewer.org.</b></div><div class=\"sk-container\" hidden><div class=\"sk-item\"><div class=\"sk-estimator sk-toggleable\"><input class=\"sk-toggleable__control sk-hidden--visually\" id=\"sk-estimator-id-1\" type=\"checkbox\" checked><label for=\"sk-estimator-id-1\" class=\"sk-toggleable__label sk-toggleable__label-arrow\">LogisticRegression</label><div class=\"sk-toggleable__content\"><pre>LogisticRegression()</pre></div></div></div></div></div>"
            ]
          },
          "metadata": {},
          "execution_count": 166
        }
      ],
      "source": [
        "logreg = LogisticRegression()\n",
        "logreg.fit(X_train, y_train)"
      ]
    }
  ],
  "metadata": {
    "accelerator": "GPU",
    "colab": {
      "gpuType": "T4",
      "provenance": []
    },
    "kernelspec": {
      "display_name": "Python 3",
      "name": "python3"
    },
    "language_info": {
      "name": "python"
    }
  },
  "nbformat": 4,
  "nbformat_minor": 0
}